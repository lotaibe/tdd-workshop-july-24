{
 "cells": [
  {
   "cell_type": "markdown",
   "metadata": {},
   "source": [
    "# Using RestTemplate in Kotlin\n",
    "A demo of consuming a REST API using Spring's `RestTemplate` and a public testing endpoint (jsonplaceholder.typicode.com)."
   ]
  },
  {
   "cell_type": "code",
   "metadata": {},
   "execution_count": null,
   "outputs": [],
   "source": [
    "// Required dependencies: \n",
    "// - org.springframework.boot:spring-boot-starter-web\n",
    "// - com.fasterxml.jackson.module:jackson-module-kotlin\n",
    "\n",
    "import org.springframework.web.client.RestTemplate\n",
    "import org.springframework.http.*\n",
    "import com.fasterxml.jackson.module.kotlin.jacksonObjectMapper\n",
    "import com.fasterxml.jackson.module.kotlin.readValue\n",
    "\n",
    "val restTemplate = RestTemplate()"
   ]
  },
  {
   "cell_type": "markdown",
   "metadata": {},
   "source": [
    "## Define a data class to match the response"
   ]
  },
  {
   "cell_type": "code",
   "metadata": {},
   "execution_count": null,
   "outputs": [],
   "source": [
    "data class Post(\n",
    "    val userId: Int,\n",
    "    val id: Int,\n",
    "    val title: String,\n",
    "    val body: String\n",
    ")"
   ]
  },
  {
   "cell_type": "markdown",
   "metadata": {},
   "source": [
    "## Perform a GET request to retrieve a post"
   ]
  },
  {
   "cell_type": "code",
   "metadata": {},
   "execution_count": null,
   "outputs": [],
   "source": [
    "val url = \"https://jsonplaceholder.typicode.com/posts/1\"\n",
    "val post: Post? = restTemplate.getForObject(url, Post::class.java)\n",
    "println(post)"
   ]
  },
  {
   "cell_type": "markdown",
   "metadata": {},
   "source": [
    "## Perform a POST request to create a new post"
   ]
  },
  {
   "cell_type": "code",
   "metadata": {},
   "execution_count": null,
   "outputs": [],
   "source": [
    "val newPost = mapOf(\n",
    "    \"title\" to \"My New Post\",\n",
    "    \"body\" to \"This is a test post\",\n",
    "    \"userId\" to 1\n",
    ")\n",
    "\n",
    "val response = restTemplate.postForObject(\n",
    "    \"https://jsonplaceholder.typicode.com/posts\",\n",
    "    newPost,\n",
    "    String::class.java\n",
    ")\n",
    "println(response)"
   ]
  },
  {
   "cell_type": "markdown",
   "metadata": {},
   "source": [
    "## Make a POST request with custom headers"
   ]
  },
  {
   "cell_type": "code",
   "metadata": {},
   "execution_count": null,
   "outputs": [],
   "source": [
    "val headers = HttpHeaders().apply {\n",
    "    contentType = MediaType.APPLICATION_JSON\n",
    "    set(\"Custom-Header\", \"HeaderValue\")\n",
    "}\n",
    "\n",
    "val entity = HttpEntity(newPost, headers)\n",
    "\n",
    "val exchangeResponse = restTemplate.exchange(\n",
    "    \"https://jsonplaceholder.typicode.com/posts\",\n",
    "    HttpMethod.POST,\n",
    "    entity,\n",
    "    String::class.java\n",
    ")\n",
    "\n",
    "println(exchangeResponse.statusCode)\n",
    "println(exchangeResponse.body)"
   ]
  }
 ],
 "metadata": {
  "kernelspec": {
   "display_name": "Kotlin",
   "language": "kotlin",
   "name": "kotlin"
  },
  "language_info": {
   "name": "kotlin",
   "version": "1.9"
  }
 },
 "nbformat": 4,
 "nbformat_minor": 5
}
